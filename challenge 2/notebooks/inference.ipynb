{
 "cells": [
  {
   "cell_type": "code",
   "execution_count": null,
   "metadata": {
    "vscode": {
     "languageId": "plaintext"
    }
   },
   "outputs": [],
   "source": [
    "# inference.ipynb\n",
    "\n",
    "# Install required packages\n",
    "!pip install -q opencv-python Pillow pandas tensorflow\n",
    "\n",
    "# Imports\n",
    "import os\n",
    "import numpy as np\n",
    "import pandas as pd\n",
    "import cv2\n",
    "from PIL import Image\n",
    "from tensorflow.keras.models import load_model\n",
    "\n",
    "# Paths and constants\n",
    "BASE_PATH = '/kaggle/input/soil-classification-part-2/soil_competition-2025'\n",
    "TEST_DIR = os.path.join(BASE_PATH, 'test')\n",
    "TEST_CSV = os.path.join(BASE_PATH, 'test_ids.csv')\n",
    "OUTPUT_CSV = '/kaggle/working/submission.csv'\n",
    "MODEL_PATH = '/kaggle/working/soil_classifier_model.h5'  # Path to saved model\n",
    "IMAGE_SIZE = (128, 128)\n",
    "SUPPORTED_EXTS = ['.jpg', '.jpeg', '.png', '.webp', '.gif', '.ipeg']\n",
    "\n",
    "# Function to load image and resize\n",
    "def load_image(path, size):\n",
    "    ext = os.path.splitext(path)[1].lower()\n",
    "    try:\n",
    "        if ext == \".gif\":\n",
    "            img = Image.open(path).convert('RGB').resize(size)\n",
    "            return np.array(img)\n",
    "        img = cv2.imread(path)\n",
    "        if img is None:\n",
    "            return None\n",
    "        return cv2.resize(img, size)\n",
    "    except:\n",
    "        return None\n",
    "\n",
    "# Load the trained model\n",
    "model = load_model(MODEL_PATH)\n",
    "\n",
    "# Load test dataframe\n",
    "test_df = pd.read_csv(TEST_CSV)\n",
    "\n",
    "results = []\n",
    "\n",
    "for row in test_df.itertuples():\n",
    "    img_path = os.path.join(TEST_DIR, row.image_id)\n",
    "    if os.path.exists(img_path) and os.path.splitext(img_path)[1].lower() in SUPPORTED_EXTS:\n",
    "        img = load_image(img_path, IMAGE_SIZE)\n",
    "        if img is not None:\n",
    "            img = img.astype(\"float32\") / 255.0\n",
    "            img = np.expand_dims(img, axis=0)\n",
    "            pred_prob = model.predict(img)[0][0]\n",
    "            pred_label = int(pred_prob > 0.5)\n",
    "            results.append([row.image_id, pred_label])\n",
    "            continue\n",
    "    # If image not found or unreadable, default prediction to 0\n",
    "    results.append([row.image_id, 0])\n",
    "\n",
    "# Save results to CSV\n",
    "submission = pd.DataFrame(results, columns=[\"image_id\", \"predicted_label\"])\n",
    "submission.to_csv(OUTPUT_CSV, index=False)\n",
    "\n",
    "print(f\"Submission saved to {OUTPUT_CSV}\")\n"
   ]
  }
 ],
 "metadata": {
  "language_info": {
   "name": "python"
  }
 },
 "nbformat": 4,
 "nbformat_minor": 2
}
