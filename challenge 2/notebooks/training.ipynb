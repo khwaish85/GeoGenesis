{
 "cells": [
  {
   "cell_type": "code",
   "execution_count": null,
   "metadata": {
    "vscode": {
     "languageId": "plaintext"
    }
   },
   "outputs": [],
   "source": [
    "# Cell 1: Install packages\n",
    "!pip install -q opencv-python Pillow scikit-learn\n",
    "\n",
    "# Cell 2: Imports\n",
    "import os\n",
    "import numpy as np\n",
    "import pandas as pd\n",
    "from sklearn.model_selection import train_test_split\n",
    "from sklearn.metrics import classification_report\n",
    "from tensorflow.keras.models import Sequential\n",
    "from tensorflow.keras.layers import Conv2D, MaxPooling2D, Flatten, Dense, Dropout\n",
    "from tensorflow.keras.optimizers import Adam\n",
    "from tensorflow.keras.callbacks import EarlyStopping\n",
    "\n",
    "from src.preprocessing import preprocess_training_data\n",
    "\n",
    "# Cell 3: Define paths\n",
    "BASE_PATH = '/kaggle/input/soil-classification-part-2/soil_competition-2025'\n",
    "TRAIN_DIR = os.path.join(BASE_PATH, 'train')\n",
    "TRAIN_CSV = os.path.join(BASE_PATH, 'train_labels.csv')\n",
    "\n",
    "# Cell 4: Load and preprocess training data\n",
    "X, y = preprocess_training_data(TRAIN_CSV, TRAIN_DIR)\n",
    "X_train, X_val, y_train, y_val = train_test_split(X, y, test_size=0.2, stratify=y, random_state=42)\n",
    "\n",
    "# Cell 5: Build the CNN model\n",
    "model = Sequential([\n",
    "    Conv2D(32, (3, 3), activation='relu', input_shape=(128, 128, 3)),\n",
    "    MaxPooling2D(2, 2),\n",
    "    Conv2D(64, (3, 3), activation='relu'),\n",
    "    MaxPooling2D(2, 2),\n",
    "    Flatten(),\n",
    "    Dropout(0.5),\n",
    "    Dense(64, activation='relu'),\n",
    "    Dense(1, activation='sigmoid')\n",
    "])\n",
    "\n",
    "model.compile(optimizer=Adam(1e-4), loss='binary_crossentropy', metrics=['accuracy'])\n",
    "early_stop = EarlyStopping(monitor='val_loss', patience=3, restore_best_weights=True)\n",
    "\n",
    "# Cell 6: Train the model\n",
    "model.fit(X_train, y_train, validation_data=(X_val, y_val), epochs=10, batch_size=32, callbacks=[early_stop])\n",
    "\n",
    "# Cell 7: Evaluate model\n",
    "y_pred = (model.predict(X_val) > 0.5).astype(\"int32\")\n",
    "print(\"\\nClassification Report:\\n\")\n",
    "print(classification_report(y_val, y_pred, digits=4))\n",
    "\n",
    "# Cell 8: Save model\n",
    "model.save('/kaggle/working/soil_model.h5')\n"
   ]
  }
 ],
 "metadata": {
  "language_info": {
   "name": "python"
  }
 },
 "nbformat": 4,
 "nbformat_minor": 2
}
